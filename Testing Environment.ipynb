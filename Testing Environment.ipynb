{
 "cells": [
  {
   "cell_type": "code",
   "execution_count": 237,
   "id": "b10a4676",
   "metadata": {},
   "outputs": [],
   "source": [
    "import numpy as np\n",
    "import scipy.linalg as slg"
   ]
  },
  {
   "cell_type": "code",
   "execution_count": 434,
   "id": "f7af8f9b",
   "metadata": {},
   "outputs": [],
   "source": [
    "def test_multiplication(n=100,m=10,drange=(2,20)):\n",
    "    test_multiplication_checks = []\n",
    "    for _ in range(n):\n",
    "        #generate a random SymTry matrix\n",
    "        dim = np.random.randint(*drange)\n",
    "        diagonal = np.random.randint(*drange,size=dim)\n",
    "        side_diagonal = np.random.randint(*drange,size=dim-1)\n",
    "        symtri = SymTri(diagonal,side_diagonal)\n",
    "        for _ in range(m):\n",
    "            random_matrix = np.random.randint(*drange,size=(dim,dim))\n",
    "            random_vector = np.random.randint(*drange,size=(1,dim))[0]\n",
    "            test_multiplication_checks.append(np.array_equal(symtri * random_matrix, symtri.elements @ random_matrix))\n",
    "    print(all(test_multiplication_checks))"
   ]
  },
  {
   "cell_type": "code",
   "execution_count": 697,
   "id": "fc75f3b0",
   "metadata": {},
   "outputs": [],
   "source": [
    "def test_decomposition(n=300,drange=(2,50)):\n",
    "    test_qr_checks = []\n",
    "    for _ in range(n):\n",
    "        #generate a random SymTri matrix\n",
    "        dim = np.random.randint(*drange)\n",
    "        diagonal = np.random.randint(*drange,size=dim)\n",
    "        side_diagonal = np.random.randint(*drange,size=dim-1)\n",
    "        symtri = SymTri(diagonal,side_diagonal)\n",
    "        Q,R = symtri.qr()\n",
    "        test_qr_checks.append(np.allclose(symtri.elements,Q@R,rtol=1e-10,atol=1e-10))\n",
    "    print(all(test_qr_checks)) "
   ]
  },
  {
   "cell_type": "code",
   "execution_count": 792,
   "id": "9fa81966",
   "metadata": {},
   "outputs": [],
   "source": [
    "def test_eigen(n=100,drange=(2,20)):\n",
    "    test_eigen_checks = []\n",
    "    for _ in range(n):\n",
    "        #generate a random SymTry matrix\n",
    "        dim = np.random.randint(*drange)\n",
    "        diagonal = np.random.randint(*drange,size=dim)\n",
    "        side_diagonal = np.random.randint(*drange,size=dim-1)\n",
    "        symtri = SymTri(diagonal,side_diagonal)\n",
    "        \n",
    "        gt = sorted(np.linalg.eig(symtri.elements)[0])\n",
    "        cc = sorted(symtri.eigen()[0])\n",
    "        \n",
    "        test_eigen_checks.append(np.allclose(gt,cc,atol=1e-1))\n",
    "    print(all(test_eigen_checks))"
   ]
  },
  {
   "cell_type": "code",
   "execution_count": 793,
   "id": "05bc066f",
   "metadata": {},
   "outputs": [
    {
     "name": "stdout",
     "output_type": "stream",
     "text": [
      "True\n"
     ]
    }
   ],
   "source": [
    "test_eigen()"
   ]
  },
  {
   "cell_type": "code",
   "execution_count": 783,
   "id": "768cd264",
   "metadata": {},
   "outputs": [],
   "source": [
    "class SymTri:\n",
    "    def __init__(self, main_diagonal,side_diagonal):\n",
    "        assert len(main_diagonal)-1 == len(side_diagonal), \"The side diagonal must be one element smaller than the main one!\"\n",
    "        first_row = [main_diagonal[0]]\n",
    "        size = len(main_diagonal)\n",
    "        self.main_diagonal = main_diagonal\n",
    "        self.side_diagonal = side_diagonal\n",
    "        self.reset_elements()\n",
    "            \n",
    "    def reset_elements(self):\n",
    "        self.elements = np.diag(self.main_diagonal) + np.diag(self.side_diagonal,k=1) + np.diag(self.side_diagonal,k=-1)\n",
    "        \n",
    "    def get_index(self, row, column):\n",
    "        if abs(column-row) > 1:\n",
    "            return 0\n",
    "        elif column == row:\n",
    "            return self.main_diagonal[column]\n",
    "        else:\n",
    "            return self.side_diagonal[min(row,column)]\n",
    "        \n",
    "    def set_index(self, row, column, value, mirror=True):\n",
    "        assert abs(column-row) <= 1, \"Cannot set a value that would make the matrix not Tridiagonal!\"\n",
    "        if abs(column-row) == 1:\n",
    "            assert mirror, \"mirror=True must be set in order to manipulate the side diagonal!\"\n",
    "        if column == row:\n",
    "            self.main_diagonal[column] = value\n",
    "        elif abs(column-row) == 1 and mirror:\n",
    "            self.side_diagonal[min(column,row)] = value\n",
    "        self.reset_elements()\n",
    "        \n",
    "    def first_index(self):\n",
    "        return 0,0\n",
    "    \n",
    "    def last_index(self):\n",
    "        last = len(self.main_diagonal)-1\n",
    "        return last, last\n",
    "        \n",
    "    def mul_vector_right(self, other):\n",
    "        s = self.side_diagonal\n",
    "        m = self.main_diagonal\n",
    "        return np.array([\n",
    "            (s[i-1]*other[i-1] if i-1>=0 else 0) + m[i]*other[i] + (s[i]*other[i+1] if i+1 < len(other) else 0)\n",
    "            for i,_ in enumerate(other)\n",
    "        ])\n",
    "        \n",
    "    def __mul__(self,other):\n",
    "        s = self.side_diagonal\n",
    "        m = self.main_diagonal\n",
    "        if isinstance(other, (list,tuple)):\n",
    "            return self.mul_vector_right(other)\n",
    "        elif isinstance(other,np.ndarray):\n",
    "            newmatrix = np.zeros((len(other),len(other)))\n",
    "            for i in range(len(other)):\n",
    "                column = other[:,i]\n",
    "                newmatrix[:,i] = self.mul_vector_right(column)\n",
    "                \n",
    "            return newmatrix\n",
    "        \n",
    "    def qr(self):\n",
    "        Q = np.eye(len(self.main_diagonal))\n",
    "        R = self.elements.copy()\n",
    "        for i in range(len(self.side_diagonal)):\n",
    "            G = Givens(R,i)\n",
    "            R = G.elements @ R\n",
    "            R[np.abs(R) < 1e-12] = 0\n",
    "            Q = G.elements @ Q\n",
    "            \n",
    "        return Q.T, R\n",
    "    \n",
    "    def eigen(self, max_iterations=1000, tol=1e-10):\n",
    "        Q, R = self.qr()\n",
    "        A = R @ Q\n",
    "        eigen = R.diagonal()\n",
    "        evect = Q.copy()\n",
    "        for _ in range(max_iterations):\n",
    "            A_new = SymTri(A.diagonal(),A.diagonal(offset=1))\n",
    "            Q_new, R_new = A_new.qr()\n",
    "            new_eigen = R_new.diagonal()\n",
    "            if np.allclose(new_eigen,eigen,atol=tol):\n",
    "                break\n",
    "            A = R_new @ Q_new\n",
    "            eigen = new_eigen\n",
    "            evect = evect @ Q_new\n",
    "            \n",
    "        \n",
    "        return eigen, evect\n",
    "        "
   ]
  },
  {
   "cell_type": "code",
   "execution_count": 754,
   "id": "8f3406c1",
   "metadata": {},
   "outputs": [],
   "source": [
    "class Givens:\n",
    "    def __init__(self, matrix, position):\n",
    "        self.matrix = matrix\n",
    "        self.position = position\n",
    "        self.dim = len(matrix)\n",
    "        self.theta = self.calculate_theta()\n",
    "        c = np.cos(self.theta)\n",
    "        s = np.sin(self.theta)\n",
    "        self.rotation_matrix = np.array([[c,-s],[s,c]])\n",
    "        identity_with_rotation = np.eye(self.dim)\n",
    "        identity_with_rotation[position:position+2,position:position+2] = self.rotation_matrix\n",
    "        self.elements = identity_with_rotation\n",
    "            \n",
    "    def calculate_theta(self):\n",
    "        d = self.matrix.diagonal()\n",
    "        s = self.matrix.diagonal(offset=-1)\n",
    "        theta = np.arctan(-s[self.position]/d[self.position])\n",
    "        return theta"
   ]
  },
  {
   "cell_type": "code",
   "execution_count": 755,
   "id": "eaebe753",
   "metadata": {},
   "outputs": [],
   "source": [
    "a = SymTri([1,9,3,4,3,2],[1,2,3,4,5])"
   ]
  },
  {
   "cell_type": "code",
   "execution_count": 760,
   "id": "201baf82",
   "metadata": {},
   "outputs": [
    {
     "data": {
      "text/plain": [
       "(array([[ 0.70710678, -0.66666667,  0.14561734, -0.01142859,  0.07679368,\n",
       "          0.16829517],\n",
       "        [ 0.70710678,  0.66666667, -0.14561734,  0.01142859, -0.07679368,\n",
       "         -0.16829517],\n",
       "        [ 0.        ,  0.33333333,  0.58246937, -0.04571437,  0.30717472,\n",
       "          0.67318066],\n",
       "        [ 0.        ,  0.        ,  0.78633365,  0.03809531, -0.25597894,\n",
       "         -0.56098389],\n",
       "        [ 0.        ,  0.        ,  0.        ,  0.99809705,  0.02559789,\n",
       "          0.05609839],\n",
       "        [ 0.        ,  0.        ,  0.        ,  0.        , -0.90976298,\n",
       "          0.41512808]]),\n",
       " array([[ 1.41421356,  7.07106781,  1.41421356,  0.        ,  0.        ,\n",
       "          0.        ],\n",
       "        [ 0.        ,  6.        ,  2.33333333,  1.        ,  0.        ,\n",
       "          0.        ],\n",
       "        [ 0.        ,  0.        ,  3.81517438,  4.89274272,  3.1453346 ,\n",
       "          0.        ],\n",
       "        [ 0.        ,  0.        ,  0.        ,  4.00762632,  3.14667237,\n",
       "          4.99048524],\n",
       "        [ 0.        ,  0.        ,  0.        ,  0.        , -5.49593697,\n",
       "         -1.69153649],\n",
       "        [ 0.        ,  0.        ,  0.        ,  0.        ,  0.        ,\n",
       "          1.11074809]]))"
      ]
     },
     "execution_count": 760,
     "metadata": {},
     "output_type": "execute_result"
    }
   ],
   "source": [
    "a.qr()"
   ]
  },
  {
   "cell_type": "code",
   "execution_count": null,
   "id": "41cf9cf2",
   "metadata": {},
   "outputs": [],
   "source": []
  }
 ],
 "metadata": {
  "kernelspec": {
   "display_name": "Python 3 (ipykernel)",
   "language": "python",
   "name": "python3"
  },
  "language_info": {
   "codemirror_mode": {
    "name": "ipython",
    "version": 3
   },
   "file_extension": ".py",
   "mimetype": "text/x-python",
   "name": "python",
   "nbconvert_exporter": "python",
   "pygments_lexer": "ipython3",
   "version": "3.9.9"
  }
 },
 "nbformat": 4,
 "nbformat_minor": 5
}

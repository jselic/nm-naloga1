{
 "cells": [
  {
   "cell_type": "code",
   "execution_count": 18,
   "id": "b1ca2119",
   "metadata": {},
   "outputs": [],
   "source": [
    "from src.Matrices import SymTri, Givens\n",
    "from src.testing import test_decomposition, test_eigen, test_multiplication\n",
    "import numpy as np"
   ]
  },
  {
   "cell_type": "markdown",
   "id": "e96aae2d",
   "metadata": {},
   "source": [
    "## NM HW1: QR razcep simetrične tridiagonalne matrike\n",
    "V direktoriju src/Matrices.py sta definirana razreda SymTri, ki predstavlja simetrično tridiagonalno matriko, ter razred Givens, ki predstavlja rotacijsko matriko. Vse metode so dokumentirane.\n",
    "V prihodnjih vrsticah so postavljene metode testiranja, *n* prestavlja število posameznih iteracij, medtem ko *drange* predstavlja vrednosti katere lahko vzame dimenzija matrike."
   ]
  },
  {
   "cell_type": "code",
   "execution_count": 19,
   "id": "2a8c87a9",
   "metadata": {},
   "outputs": [
    {
     "name": "stdout",
     "output_type": "stream",
     "text": [
      "True\n"
     ]
    }
   ],
   "source": [
    "test_multiplication(n=100,drange=(10,25))"
   ]
  },
  {
   "cell_type": "code",
   "execution_count": 20,
   "id": "123017f2",
   "metadata": {},
   "outputs": [
    {
     "name": "stdout",
     "output_type": "stream",
     "text": [
      "True\n"
     ]
    }
   ],
   "source": [
    "test_decomposition(n=100,drange=(10,25))"
   ]
  },
  {
   "cell_type": "code",
   "execution_count": 21,
   "id": "7a0f66cb",
   "metadata": {},
   "outputs": [
    {
     "name": "stdout",
     "output_type": "stream",
     "text": [
      "True\n"
     ]
    }
   ],
   "source": [
    "test_eigen(n=100,drange=(10,25))"
   ]
  },
  {
   "cell_type": "markdown",
   "id": "8a248616",
   "metadata": {},
   "source": [
    "### Primer:\n",
    "Spodaj je 'pipeline' postopka kako matriko definiramo in nakoncu izračunamo njene lastne vrednosti. Iz primera iz wikipedije:https://en.wikipedia.org/wiki/Givens_rotation#Triangularization"
   ]
  },
  {
   "cell_type": "code",
   "execution_count": 22,
   "id": "6e4fbbd0",
   "metadata": {},
   "outputs": [],
   "source": [
    "#Definiramo matriko\n",
    "A = SymTri([6,1,3],[5,4])"
   ]
  },
  {
   "cell_type": "code",
   "execution_count": 23,
   "id": "29a6020b",
   "metadata": {},
   "outputs": [
    {
     "data": {
      "text/plain": [
       "array([[6, 5, 0],\n",
       "       [5, 1, 4],\n",
       "       [0, 4, 3]])"
      ]
     },
     "execution_count": 23,
     "metadata": {},
     "output_type": "execute_result"
    }
   ],
   "source": [
    "A.elements"
   ]
  },
  {
   "cell_type": "code",
   "execution_count": 24,
   "id": "f0023b04",
   "metadata": {},
   "outputs": [],
   "source": [
    "#Izračunamo QR razcep\n",
    "Q, R = A.qr()"
   ]
  },
  {
   "cell_type": "code",
   "execution_count": 26,
   "id": "2028bfbb",
   "metadata": {},
   "outputs": [
    {
     "name": "stdout",
     "output_type": "stream",
     "text": [
      "[[ 0.77 -0.33 -0.55]\n",
      " [ 0.64  0.4   0.66]\n",
      " [ 0.   -0.85  0.52]]\n",
      "[[ 7.81  4.48  2.56]\n",
      " [ 0.   -4.68 -0.97]\n",
      " [ 0.    0.    4.18]]\n"
     ]
    }
   ],
   "source": [
    "with np.printoptions(precision=2, suppress=True):\n",
    "    print(Q)\n",
    "    print(R)"
   ]
  },
  {
   "cell_type": "code",
   "execution_count": 27,
   "id": "2c51f71b",
   "metadata": {},
   "outputs": [],
   "source": [
    "#Kandati lastnih vrednosti so diagonalni elementi matrike R, tukaj začnemo QR iteracijo kjer gledamo, kdaj bo stvar konvergirala:"
   ]
  },
  {
   "cell_type": "code",
   "execution_count": 28,
   "id": "5bdd73f5",
   "metadata": {},
   "outputs": [],
   "source": [
    "A_new = R @ Q"
   ]
  },
  {
   "cell_type": "code",
   "execution_count": 29,
   "id": "dc0011de",
   "metadata": {},
   "outputs": [
    {
     "name": "stdout",
     "output_type": "stream",
     "text": [
      "[[ 8.87 -3.    0.  ]\n",
      " [-3.   -1.04 -3.58]\n",
      " [ 0.   -3.58  2.17]]\n"
     ]
    }
   ],
   "source": [
    "with np.printoptions(precision=2, suppress=True):\n",
    "    print(A_new)"
   ]
  },
  {
   "cell_type": "code",
   "execution_count": 31,
   "id": "e88082b5",
   "metadata": {},
   "outputs": [],
   "source": [
    "#Na novodobljeni matriki (ki je tudi SymTri!) tako spet naredimo QR razcep\n",
    "A_new = SymTri(A_new.diagonal(),A_new.diagonal(offset=1))\n",
    "Q_new, R_new = A_new.qr()"
   ]
  },
  {
   "cell_type": "code",
   "execution_count": 32,
   "id": "b46aa88a",
   "metadata": {},
   "outputs": [
    {
     "name": "stdout",
     "output_type": "stream",
     "text": [
      "[[ 0.95  0.15 -0.28]\n",
      " [-0.32  0.45 -0.83]\n",
      " [ 0.    0.88  0.48]]\n",
      "[[ 9.36 -2.51  1.14]\n",
      " [ 0.   -4.07  0.29]\n",
      " [ 0.    0.    4.01]]\n"
     ]
    }
   ],
   "source": [
    "with np.printoptions(precision=2, suppress=True):\n",
    "    print(Q_new)\n",
    "    print(R_new)"
   ]
  },
  {
   "cell_type": "code",
   "execution_count": 34,
   "id": "cbcb258a",
   "metadata": {},
   "outputs": [],
   "source": [
    "#Po nekaj takih iteracijah...\n",
    "eigenl, eigenv = A.eigen() "
   ]
  },
  {
   "cell_type": "code",
   "execution_count": 37,
   "id": "dc7dcb50",
   "metadata": {},
   "outputs": [
    {
     "name": "stdout",
     "output_type": "stream",
     "text": [
      "[ 9.84  4.02 -3.87]\n"
     ]
    }
   ],
   "source": [
    "with np.printoptions(precision=2, suppress=True):\n",
    "    print(eigenl)"
   ]
  },
  {
   "cell_type": "code",
   "execution_count": 39,
   "id": "7856c1b5",
   "metadata": {},
   "outputs": [
    {
     "data": {
      "text/plain": [
       "array([-3.86492147,  9.84316153,  4.02175994])"
      ]
     },
     "execution_count": 39,
     "metadata": {},
     "output_type": "execute_result"
    }
   ],
   "source": [
    "np.linalg.eig(A.elements)[0]"
   ]
  },
  {
   "cell_type": "code",
   "execution_count": null,
   "id": "115f4a23",
   "metadata": {},
   "outputs": [],
   "source": [
    "#Kar lahko vidimo da se ujema"
   ]
  }
 ],
 "metadata": {
  "kernelspec": {
   "display_name": "Python 3 (ipykernel)",
   "language": "python",
   "name": "python3"
  },
  "language_info": {
   "codemirror_mode": {
    "name": "ipython",
    "version": 3
   },
   "file_extension": ".py",
   "mimetype": "text/x-python",
   "name": "python",
   "nbconvert_exporter": "python",
   "pygments_lexer": "ipython3",
   "version": "3.9.9"
  }
 },
 "nbformat": 4,
 "nbformat_minor": 5
}
